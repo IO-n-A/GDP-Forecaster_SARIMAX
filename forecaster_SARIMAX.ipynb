{
 "cells": [
  {
   "cell_type": "markdown",
   "metadata": {},
   "source": [
    "# SARIMAX GDP Forecasting System\n",
    "\n",
    "## Overview\n",
    "\n",
    "This notebook demonstrates a comprehensive SARIMAX (Seasonal AutoRegressive Integrated Moving Average with eXogenous variables) modeling framework for GDP forecasting. The system has been refactored into modular components for better maintainability and extensibility.\n",
    "\n",
    "### Key Features:\n",
    "- **Multi-country GDP forecasting** (US, EU, China)\n",
    "- **Exogenous variable integration** (PMI, ESI, other economic indicators)\n",
    "- **Automated hyperparameter optimization** via grid search\n",
    "- **Comprehensive evaluation metrics** and statistical tests\n",
    "- **Rolling-origin validation** for realistic forecast assessment\n",
    "- **Professional visualization** and diagnostic tools"
   ]
  },
  {
   "cell_type": "markdown",
   "metadata": {},
   "source": [
    "## Mathematical Foundation\n",
    "\n",
    "### SARIMAX Model Specification\n",
    "\n",
    "The SARIMAX model combines seasonal and non-seasonal components with exogenous variables:\n",
    "\n",
    "$$\\phi(B)\\Phi(B^s)(1-B)^d(1-B^s)^D y_t = \\theta(B)\\Theta(B^s)\\varepsilon_t + \\beta^T X_t$$\n",
    "\n",
    "Where:\n",
    "- $\\phi(B) = 1 - \\phi_1 B - \\phi_2 B^2 - \\ldots - \\phi_p B^p$ (non-seasonal AR polynomial)\n",
    "- $\\Phi(B^s) = 1 - \\Phi_1 B^s - \\Phi_2 B^{2s} - \\ldots - \\Phi_P B^{Ps}$ (seasonal AR polynomial)\n",
    "- $\\theta(B) = 1 + \\theta_1 B + \\theta_2 B^2 + \\ldots + \\theta_q B^q$ (non-seasonal MA polynomial)\n",
    "- $\\Theta(B^s) = 1 + \\Theta_1 B^s + \\Theta_2 B^{2s} + \\ldots + \\Theta_Q B^{Qs}$ (seasonal MA polynomial)\n",
    "- $B$ is the backshift operator: $B y_t = y_{t-1}$\n",
    "- $d, D$ are differencing orders (non-seasonal, seasonal)\n",
    "- $s$ is the seasonal period (4 for quarterly data)\n",
    "- $X_t$ is the vector of exogenous variables\n",
    "- $\\varepsilon_t \\sim N(0, \\sigma^2)$ is white noise\n",
    "\n",
    "### Model Order Notation\n",
    "\n",
    "The model is denoted as **SARIMAX(p,d,q)(P,D,Q,s)** where:\n",
    "- $(p,d,q)$: non-seasonal components (AR order, differencing, MA order)\n",
    "- $(P,D,Q,s)$: seasonal components (seasonal AR, seasonal differencing, seasonal MA, period)"
   ]
  },
  {
   "cell_type": "markdown",
   "metadata": {},
   "source": [
    "### Time Series Transformations\n",
    "\n",
    "#### 1. Level (Identity)\n",
    "$$y_t^{(level)} = y_t$$\n",
    "\n",
    "#### 2. Quarter-over-Quarter (QoQ)\n",
    "$$y_t^{(qoq)} = 100 \\times \\frac{y_t - y_{t-1}}{y_{t-1}} = 100 \\times \\left(\\frac{y_t}{y_{t-1}} - 1\\right)$$\n",
    "\n",
    "#### 3. Year-over-Year (YoY)\n",
    "$$y_t^{(yoy)} = 100 \\times \\frac{y_t - y_{t-4}}{y_{t-4}} = 100 \\times \\left(\\frac{y_t}{y_{t-4}} - 1\\right)$$\n",
    "\n",
    "#### 4. Log Difference\n",
    "$$y_t^{(log\\_diff)} = 100 \\times (\\log y_t - \\log y_{t-1}) = 100 \\times \\log\\left(\\frac{y_t}{y_{t-1}}\\right)$$\n",
    "\n",
    "The log difference approximates percentage change for small changes: $\\log(1+x) \\approx x$ when $|x| << 1$."
   ]
  },
  {
   "cell_type": "markdown",
   "metadata": {},
   "source": [
    "### Stationarity Testing\n",
    "\n",
    "#### Augmented Dickey-Fuller (ADF) Test\n",
    "\n",
    "The ADF test examines the null hypothesis of a unit root:\n",
    "\n",
    "$$\\Delta y_t = \\alpha + \\beta t + \\gamma y_{t-1} + \\sum_{i=1}^{p} \\delta_i \\Delta y_{t-i} + \\varepsilon_t$$\n",
    "\n",
    "Where:\n",
    "- $H_0: \\gamma = 0$ (unit root exists, series is non-stationary)\n",
    "- $H_1: \\gamma < 0$ (no unit root, series is stationary)\n",
    "\n",
    "**Test Statistic:**\n",
    "$$ADF = \\frac{\\hat{\\gamma}}{SE(\\hat{\\gamma})}$$\n",
    "\n",
    "The test statistic follows a non-standard distribution. Critical values depend on sample size and model specification."
   ]
  },
  {
   "cell_type": "markdown",
   "metadata": {},
   "source": [
    "### Model Selection Criteria\n",
    "\n",
    "#### Akaike Information Criterion (AIC)\n",
    "$$AIC = -2\\log(L) + 2k$$\n",
    "\n",
    "#### Bayesian Information Criterion (BIC)\n",
    "$$BIC = -2\\log(L) + k\\log(n)$$\n",
    "\n",
    "#### Hannan-Quinn Information Criterion (HQIC)\n",
    "$$HQIC = -2\\log(L) + 2k\\log(\\log(n))$$\n",
    "\n",
    "Where:\n",
    "- $L$ is the maximized likelihood\n",
    "- $k$ is the number of parameters\n",
    "- $n$ is the sample size\n",
    "\n",
    "**Model Selection Rule:** Choose model with minimum IC value."
   ]
  },
  {
   "cell_type": "markdown",
   "metadata": {},
   "source": [
    "## Setup and Imports\n",
    "\n",
    "Let's start by importing the necessary modules and setting up our environment:"
   ]
  },
  {
   "cell_type": "code",
   "execution_count": null,
   "metadata": {},
   "outputs": [],
   "source": [
    "# Core imports\n",
    "import sys\n",
    "import warnings\n",
    "import numpy as np\n",
    "import pandas as pd\n",
    "import matplotlib.pyplot as plt\n",
    "from pathlib import Path\n",
    "from itertools import product\n",
    "import seaborn as sns\n",
    "\n",
    "# Import our refactored modules\n",
    "from gdp_forecaster_src.config_utils import initialize_config\n",
    "from gdp_forecaster_src.data_utils import load_macro_data, load_gdp_series_csv\n",
    "from gdp_forecaster_src.parsing_utils import parse_range_arg, parse_intervals_arg\n",
    "from gdp_forecaster_src.transform_utils import apply_target_transform\n",
    "from gdp_forecaster_src.metrics_utils import compute_metrics\n",
    "from gdp_forecaster_src.plotting_utils import plot_realgdp, plot_forecast_comparison\n",
    "from gdp_forecaster_src.forecasting_utils import (\n",
    "    optimize_sarimax, rolling_one_step_predictions, adf_test, \n",
    "    fit_best_sarimax_model, validate_sarimax_inputs\n",
    ")\n",
    "\n",
    "# Suppress warnings for cleaner output\n",
    "warnings.filterwarnings('ignore')\n",
    "\n",
    "# Configure matplotlib and seaborn\n",
    "sns.set_style(\"whitegrid\")\n",
    "plt.rcParams['figure.figsize'] = (14, 7)\n",
    "plt.rcParams['font.size'] = 12\n",
    "\n",
    "# Initialize configuration\n",
    "initialize_config()\n",
    "\n",
    "print(\"✅ All modules imported successfully\")\n",
    "print(f\"✅ Working directory: {Path.cwd()}\")"
   ]
  },
  {
   "cell_type": "markdown",
   "metadata": {},
   "source": [
    "## Data Loading and Exploration\n",
    "\n",
    "### Loading US Macroeconomic Data\n",
    "\n",
    "We'll start with the classic US macroeconomic quarterly dataset from statsmodels, covering 1959-2009:"
   ]
  },
  {
   "cell_type": "code",
   "execution_count": null,
   "metadata": {},
   "outputs": [],
   "source": [
    "# Load the macro dataset\n",
    "data_path = Path(\"data/us_macro_quarterly.csv\")\n",
    "df_macro = load_macro_data(data_path)\n",
    "\n",
    "print(f\"Dataset shape: {df_macro.shape}\")\n",
    "print(f\"Time period: {df_macro['year'].min()}-{df_macro['year'].max()}\")\n",
    "print(f\"\\nColumns: {list(df_macro.columns)}\")\n",
    "\n",
    "# Display first few rows\n",
    "df_macro.head()"
   ]
  },
  {
   "cell_type": "code",
   "execution_count": null,
   "metadata": {},
   "outputs": [],
   "source": [
    "# Visualize the Real GDP series\n",
    "plot_realgdp(df_macro, Path('figures/notebook_realgdp.png'))\n",
    "from IPython.display import Image\n",
    "Image('figures/notebook_realgdp.png')"
   ]
  },
  {
   "cell_type": "markdown",
   "metadata": {},
   "source": [
    "### Stationarity Analysis\n",
    "\n",
    "Before modeling, we need to assess stationarity using the Augmented Dickey-Fuller test:\n",
    "\n",
    "**Null Hypothesis:** $H_0: \\gamma = 0$ (series has unit root, non-stationary)\n",
    "\n",
    "**Alternative Hypothesis:** $H_1: \\gamma < 0$ (series is stationary)"
   ]
  },
  {
   "cell_type": "code",
   "execution_count": null,
   "metadata": {},
   "outputs": [],
   "source": [
    "# Extract GDP series and test\n",
    "gdp_series = df_macro['realgdp']\n",
    "adf_stat_level, adf_pval_level = adf_test(gdp_series)\n",
    "gdp_diff = gdp_series.diff().dropna()\n",
    "adf_stat_diff, adf_pval_diff = adf_test(gdp_diff)\n",
    "\n",
    "print(f\"ADF p-value (level): {adf_pval_level:.4f} -> {'Stationary' if adf_pval_level < 0.05 else 'Non-stationary'}\")\n",
    "print(f\"ADF p-value (diff): {adf_pval_diff:.4f} -> {'Stationary' if adf_pval_diff < 0.05 else 'Non-stationary'}\")"
   ]
  },
  {
   "cell_type": "markdown",
   "metadata": {},
   "source": [
    "## SARIMAX Model Setup and Grid Search\n",
    "\n",
    "### Hyperparameter Optimization\n",
    "\n",
    "We perform grid search over the hyperparameter space $(p,q,P,Q)$ to minimize AIC."
   ]
  },
  {
   "cell_type": "code",
   "execution_count": null,
   "metadata": {},
   "outputs": [],
   "source": [
    "target_transform = 'level'\n",
    "endog, d_suggested = apply_target_transform(gdp_series, target_transform)\n",
    "endog_clean = endog.dropna()\n",
    "validate_sarimax_inputs(endog_clean)\n",
    "\n",
    "p_range = parse_range_arg(\"0-2\")\n",
    "q_range = parse_range_arg(\"0-2\")\n",
    "P_range = parse_range_arg(\"0-1\")\n",
    "Q_range = parse_range_arg(\"0-1\")\n",
    "param_combinations = list(product(p_range, q_range, P_range, Q_range))\n",
    "\n",
    "result_df = optimize_sarimax(endog=endog_clean, exog=None, order_list=param_combinations, d=d_suggested, D=0, s=4)\n",
    "\n",
    "best_order = result_df.iloc[0]['(p,q,P,Q)']\n",
    "print(f\"Best model order: {best_order}\")\n",
    "result_df.head()"
   ]
  },
  {
   "cell_type": "markdown",
   "metadata": {},
   "source": [
    "### Model Fitting and Diagnostics\n"
   ]
  },
  {
   "cell_type": "code",
   "execution_count": null,
   "metadata": {},
   "outputs": [],
   "source": [
    "best_fitted = fit_best_sarimax_model(endog=endog_clean, exog=None, best_order=best_order, d=d_suggested, D=0, s=4)\n",
    "print(best_fitted.summary())"
   ]
  },
  {
   "cell_type": "code",
   "execution_count": null,
   "metadata": {},
   "outputs": [],
   "source": [
    "diag_fig = best_fitted.plot_diagnostics(figsize=(16, 10))\n",
    "plt.tight_layout()\n",
    "plt.show()"
   ]
  },
  {
   "cell_type": "markdown",
   "metadata": {},
   "source": [
    "## Forecast Evaluation\n",
    "\n",
    "### Rolling-Origin Validation\n",
    "\n",
    "We implement **rolling-origin validation** to simulate real-world forecasting."
   ]
  },
  {
   "cell_type": "code",
   "execution_count": null,
   "metadata": {},
   "outputs": [],
   "source": [
    "TEST_HORIZON = 16\n",
    "train_size = len(endog_clean) - TEST_HORIZON\n",
    "coverage_levels = parse_intervals_arg(\"80,95\")\n",
    "\n",
    "rolling_preds, conf_bounds = rolling_one_step_predictions(\n",
    "    endog=endog_clean, exog_model=None, best_order=best_order,\n",
    "    d=d_suggested, D=0, s=4, coverage_levels=coverage_levels,\n",
    "    start_index=train_size\n",
    ")\n",
    "\n",
    "y_test = endog_clean.iloc[train_size:]\n",
    "y_train = endog_clean.iloc[:train_size]\n",
    "naive_preds = [endog_clean.iloc[i-1] for i in range(train_size, len(endog_clean))]\n",
    "\n",
    "metrics_sarimax = compute_metrics(y_test, rolling_preds, naive_preds, y_train)\n",
    "metrics_naive = compute_metrics(y_test, naive_preds, naive_preds, y_train)\n",
    "\n",
    "metrics_df = pd.DataFrame([metrics_sarimax, metrics_naive], index=['SARIMAX', 'Naive'])\n",
    "metrics_df.round(4)"
   ]
  },
  {
   "cell_type": "code",
   "execution_count": null,
   "metadata": {},
   "outputs": [],
   "source": [
    "forecasts = {\"SARIMAX\": rolling_preds, \"Naive\": naive_preds}\n",
    "plot_forecast_comparison(y_test, forecasts, Path('figures/notebook_forecast_comparison.png'))\n",
    "Image('figures/notebook_forecast_comparison.png')"
   ]
  }
 ],
 "metadata": {
  "kernelspec": {
   "display_name": "Python 3",
   "language": "python",
   "name": "python3"
  },
  "language_info": {
   "codemirror_mode": {
    "name": "ipython",
    "version": 3
   },
   "file_extension": ".py",
   "mimetype": "text/x-python",
   "name": "python",
   "nbconvert_exporter": "python",
   "pygments_lexer": "ipython3",
   "version": "3.10.12"
  }
 },
 "nbformat": 4,
 "nbformat_minor": 4
}